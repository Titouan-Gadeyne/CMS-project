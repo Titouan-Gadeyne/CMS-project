{
 "cells": [
  {
   "cell_type": "markdown",
   "metadata": {},
   "source": [
    "## Kinetic Monte-Carlo"
   ]
  },
  {
   "cell_type": "code",
   "execution_count": 54,
   "metadata": {},
   "outputs": [],
   "source": [
    "import numpy                as np\n",
    "import matplotlib.pyplot    as plt\n",
    "from mpl_toolkits.mplot3d.axes3d import Axes3D\n",
    "from matplotlib import cm\n",
    "import scipy.constants      as cst\n",
    "import random"
   ]
  },
  {
   "cell_type": "code",
   "execution_count": 30,
   "metadata": {},
   "outputs": [],
   "source": [
    "\"CONSTANTES\"\n",
    "kB = cst.physical_constants['Boltzmann constant'][0]\n",
    "eV = cst.physical_constants['electron volt'][0]\n",
    "h  = cst.physical_constants['Planck constant'][0]"
   ]
  },
  {
   "cell_type": "code",
   "execution_count": 170,
   "metadata": {},
   "outputs": [
    {
     "name": "stdout",
     "output_type": "stream",
     "text": [
      "[1, 5.01504841526016e-07, 2.5150710607403444e-13, 1.2613203137432464e-19, 6.32558244057356e-26]\n"
     ]
    }
   ],
   "source": [
    "\"PARAMETRES\"\n",
    "T  = 800       # Température (K)\n",
    "ES = 1.3 * eV  # Energie atome-substrat (eV)\n",
    "EN = 1.0 * eV  # Energie atome-voisin (eV)\n",
    "L  = 100       # Nombre d'atomes sur une ligne de la grille\n",
    "theta = 0.25    # Coverage\n",
    "\n",
    "\"PROBABILITES\"\n",
    "F  = 0.1                # Nombre d'atomes déposés sur une colonne par seconde\n",
    "t_dep = 1 / (F * L**2)  # Intervalle de temps entre deux dépôts sur la grille de L^2 atomes\n",
    "\n",
    "D  = (2*kB*T/h) * np.exp(-ES/(kB*T))  # Nombre de sauts effectués par un atome (sans voisins) par seconde\n",
    "t_diff = 1 / D                        # Intervalle de temps entre deux sauts pour un atome sans voisins\n",
    "\n",
    "# Poids de la constante de vitesse dû aux voisins:\n",
    "p0 = 1\n",
    "p1 = np.exp(-1*EN/(kB*T))\n",
    "p2 = np.exp(-2*EN/(kB*T))\n",
    "p3 = np.exp(-3*EN/(kB*T))\n",
    "p4 = np.exp(-4*EN/(kB*T))\n",
    "P  = [p0, p1, p2, p3, p4]  # P[n] est la probabilité à utiliser pour n voisins\n",
    "print(P)"
   ]
  },
  {
   "cell_type": "code",
   "execution_count": 171,
   "metadata": {},
   "outputs": [],
   "source": [
    "\"Ajout d'un atome sur la colonne (i, j)\"\n",
    "def add_atom(i,j):\n",
    "    \n",
    "    C_ini = int(Classe[i,j])\n",
    "    Types[C_ini].remove( (i, j) ) # retirer la colonne de la table de classes\n",
    "    \n",
    "    # Si le nouvel atome va dépasser ses voisins, baisser la classe de la colonne:\n",
    "    if H[i,j] == H[np.mod(i-1,L), j]:\n",
    "        Classe[i,j] -= 1\n",
    "    if H[i,j] == H[np.mod(i+1,L), j]:\n",
    "        Classe[i,j] -= 1\n",
    "    if H[i,j] == H[i, np.mod(j-1,L)]:\n",
    "        Classe[i,j] -= 1\n",
    "    if H[i,j] == H[i, np.mod(j+1,L)]:\n",
    "        Classe[i,j] -= 1\n",
    "        \n",
    "    C_fin = int(Classe[i,j])\n",
    "    Types[C_fin].append( (i, j) ) # ajouter la colonne à la table de classes\n",
    "        \n",
    "    H[i,j] += 1  # ajouter l'atome en (i, j)\n",
    "        \n",
    "    # Si le nouvel atome change la classe des colonnes voisines:\n",
    "    if H[i,j] == H[np.mod(i-1,L), j]:\n",
    "        \n",
    "        C = int(Classe[np.mod(i-1,L), j])\n",
    "        Types[C].remove( (np.mod(i-1,L), j) )\n",
    "        Classe[np.mod(i-1,L),j] += 1\n",
    "        Types[C+1].append( (np.mod(i-1,L), j) )\n",
    "        \n",
    "    if H[i,j] == H[np.mod(i+1,L), j]:\n",
    "        \n",
    "        C = int(Classe[np.mod(i+1,L), j])\n",
    "        Types[C].remove( (np.mod(i+1,L), j) )\n",
    "        Classe[np.mod(i+1,L),j] += 1\n",
    "        Types[C+1].append( (np.mod(i+1,L), j) )\n",
    "        \n",
    "    if H[i,j] == H[i, np.mod(j-1,L)]:\n",
    "        \n",
    "        C = int(Classe[i, np.mod(j-1,L)])\n",
    "        Types[C].remove( (i, np.mod(j-1,L)) )\n",
    "        Classe[i,np.mod(j-1,L)] += 1\n",
    "        Types[C+1].append( (i, np.mod(j-1,L)) )\n",
    "        \n",
    "    if H[i,j] == H[i, np.mod(j+1,L)]:\n",
    "        \n",
    "        C = int(Classe[i, np.mod(j+1,L)])\n",
    "        Types[C].remove( (i, np.mod(j+1,L)) )\n",
    "        Classe[i,np.mod(j+1,L)] += 1\n",
    "        Types[C+1].append( (i, np.mod(j+1,L)) )\n",
    "\n",
    "\n",
    "\"Suppression d'un atome sur la colonne (i, j)\"        \n",
    "def remove_atom(i,j):\n",
    "    \n",
    "    # Si la suppression change la classe des colonnes voisines:\n",
    "    if H[i,j] == H[np.mod(i-1,L), j]:\n",
    "        \n",
    "        C = int(Classe[np.mod(i-1,L), j])\n",
    "        Types[C].remove( (np.mod(i-1,L), j) )\n",
    "        Classe[np.mod(i-1,L),j] -= 1\n",
    "        Types[C-1].append( (np.mod(i-1,L), j) )\n",
    "        \n",
    "    if H[i,j] == H[np.mod(i+1,L), j]:\n",
    "        \n",
    "        C = int(Classe[np.mod(i+1,L), j])\n",
    "        Types[C].remove( (np.mod(i+1,L), j) )\n",
    "        Classe[np.mod(i+1,L),j] -= 1\n",
    "        Types[C-1].append( (np.mod(i+1,L), j) )\n",
    "        \n",
    "    if H[i,j] == H[i, np.mod(j-1,L)]:\n",
    "        \n",
    "        C = int(Classe[i, np.mod(j-1,L)])\n",
    "        Types[C].remove( (i, np.mod(j-1,L)) )\n",
    "        Classe[i,np.mod(j-1,L)] -= 1\n",
    "        Types[C-1].append( (i, np.mod(j-1,L)) )\n",
    "        \n",
    "    if H[i,j] == H[i, np.mod(j+1,L)]:\n",
    "        \n",
    "        C = int(Classe[i, np.mod(j+1,L)])\n",
    "        Types[C].remove( (i, np.mod(j+1,L)) )\n",
    "        Classe[i,np.mod(j+1,L)] -= 1\n",
    "        Types[C-1].append( (i, np.mod(j+1,L)) )\n",
    "        \n",
    "    H[i,j] -= 1  # supprimer l'atome en (i, j)\n",
    "    \n",
    "    C_ini = int(Classe[i,j])\n",
    "    Types[C_ini].remove( (i, j) )\n",
    "        \n",
    "    # Si le nouvel atome gagne des voisins, augmenter sa classe:\n",
    "    if H[i,j] == H[np.mod(i-1,L), j]:\n",
    "        Classe[i,j] += 1\n",
    "    if H[i,j] == H[np.mod(i+1,L), j]:\n",
    "        Classe[i,j] += 1\n",
    "    if H[i,j] == H[i, np.mod(j-1,L)]:\n",
    "        Classe[i,j] += 1\n",
    "    if H[i,j] == H[i, np.mod(j+1,L)]:\n",
    "        Classe[i,j] += 1\n",
    "        \n",
    "    C_fin = int(Classe[i,j])\n",
    "    Types[C_fin].append( (i, j) )\n",
    "\n",
    "\n",
    "\"Kinetic Monte Carlo\"\n",
    "def KMC():\n",
    "    s=0\n",
    "    'Deposition'\n",
    "    for S in range(0, n_dep):\n",
    "\n",
    "        I, J = np.random.randint(L, size=2) # on choisit au hasard une colonne (I, J) sur la grille\n",
    "        add_atom(I, J)                      # on y ajoute un atome\n",
    "        \n",
    "        if ((S+1) % 10) == 0: # Suivre l'avancée du calcul\n",
    "            print('Atomes déposés: '+str(S+1))\n",
    "            \n",
    "        if (100*(S+1)/(L**2) % 5) == 0: # Si coverage multiple de 5\n",
    "            print('Coverage: '+str(100*(S+1)/(L**2)))    \n",
    "            np.savetxt('L='+str(L)+'F='+str(F)+'T='+str(T)+'theta='+str(100*(S+1)/(L**2))+'EN='+str(EN/eV)+'.txt', H)\n",
    "\n",
    "        'Diffusion'\n",
    "        t = 0             # reset le compteur de temps\n",
    "        #print(s)\n",
    "        s=0\n",
    "        while t < t_dep:  # On diffuse pendant le temps t_dep avant la nouvelle déposition\n",
    "            s=s+1\n",
    "\n",
    "            N = L**2 - len(Types[4]) - len(Types[3]) - len(Types[2]) # Nombre d'atomes qui peuvent bouger (P[n] non négligeable)\n",
    "            #print(N)\n",
    "            t += t_diff/N # Ajout de l'intervalle de temps pour 1 saut pour le nombre d'atomes mobiles considéré\n",
    "\n",
    "            i, j = random.choice(Types[0]+Types[1]) # on choisit au hasard un atome mobile\n",
    "            C = int(Classe[i, j])                            # on lit la classe de l'atome choisi\n",
    "\n",
    "            \n",
    "            if (C > 4) or (C < 0):  # Vérifier que la classe n'est pas aberrante\n",
    "                print('ERREUR: Classe impossible !!')\n",
    "                print(C)\n",
    "            \n",
    "\n",
    "            p = P[C]    # probabilité d'accepter le saut pour la classe de l'atome choisi\n",
    "            \n",
    "            r = np.random.rand()\n",
    "            if r < p: # si le saut est accepté\n",
    "\n",
    "                # On déplace l'atome selon l'une des quatres directions:\n",
    "                r2 = np.random.rand()\n",
    "                remove_atom(i, j)\n",
    "                if r2 < 0.25:\n",
    "                        add_atom(np.mod(i-1, L), j)\n",
    "                if 0.25 < r2 < 0.50:\n",
    "                        add_atom(np.mod(i+1, L), j)\n",
    "                if 0.50 < r2 < 0.75:\n",
    "                        add_atom(i, np.mod(j-1, L))\n",
    "                if 0.75 < r2 < 1:\n",
    "                        add_atom(i, np.mod(j+1, L))\n",
    "                        \n",
    "                # A ajouter: condition sur la différence de hauteur entre les colonnes de départ et d'arrivée\n",
    "                \n",
    "                "
   ]
  },
  {
   "cell_type": "code",
   "execution_count": null,
   "metadata": {
    "scrolled": true
   },
   "outputs": [
    {
     "name": "stdout",
     "output_type": "stream",
     "text": [
      "Atomes à déposer: 2500\n"
     ]
    }
   ],
   "source": [
    "\"SIMULATION\"\n",
    "\n",
    "\"Nombre total d'atomes à déposer\"\n",
    "n_dep = int(L**2*theta)\n",
    "print('Atomes à déposer: '+str(n_dep))\n",
    "\n",
    "'Matrice H initiale: 0 atomes partout'\n",
    "H = np.ones((L,L)) * 0\n",
    "\n",
    "'Matrice des classes initiale: 4 voisins partout'\n",
    "Classe = np.ones((L,L)) * 4\n",
    "\n",
    "'Liste des types initiale: toutes les coordonnées (i, j) dans Types[4]'\n",
    "Columns = []\n",
    "for i in range(0, L):\n",
    "    for j in range(0, L):\n",
    "        Columns.append((i, j))\n",
    "Types = [[], [], [], [], Columns]  # Liste des colonnes (i, j) de classe 0, 1, 2, 3, 4\n",
    "\n",
    "'Lancer la simulation Monte-Carlo'\n",
    "KMC()"
   ]
  },
  {
   "cell_type": "code",
   "execution_count": 126,
   "metadata": {},
   "outputs": [
    {
     "data": {
      "image/png": "[encoded data removed]",
      "text/plain": [
       "<Figure size 720x720 with 1 Axes>"
      ]
     },
     "metadata": {
      "needs_background": "light"
     },
     "output_type": "display_data"
    }
   ],
   "source": [
    "\"RESULTATS\"\n",
    "\n",
    "np.savetxt('L='+str(L)+'F='+str(F)+'T='+str(T)+'theta='+str(theta)+'EN='+str(EN/eV)+'.txt', H)\n",
    "\n",
    "'Tracer la surface en 2D'\n",
    "%matplotlib inline\n",
    "fig = plt.figure(figsize=(10,10))\n",
    "ax = fig.add_subplot(111)\n",
    "\n",
    "ax.imshow(H, cmap='hot', vmax=3, vmin=0)\n",
    "\n",
    "ax.set_xlim(0,L-1)\n",
    "ax.set_ylim(0,L-1)\n",
    "\n",
    "plt.show()"
   ]
  },
  {
   "cell_type": "code",
   "execution_count": 84,
   "metadata": {},
   "outputs": [
    {
     "data": {
      "image/png": "[encoded data removed]",
      "text/plain": [
       "<Figure size 2160x10800 with 5 Axes>"
      ]
     },
     "metadata": {},
     "output_type": "display_data"
    }
   ],
   "source": [
    "\"COMPARAISON\"\n",
    "\n",
    "'Tracer la surface en 2D'\n",
    "%matplotlib inline\n",
    "fig, ax = plt.subplots(1, 5, figsize=(30,150))\n",
    "fig.subplots_adjust(wspace=0.04)\n",
    "\n",
    "Elist = [0.3,0.5,0.6,0.7,0.9]\n",
    "\n",
    "for i in range(0,len(Elist)):\n",
    "    E = Elist[i]\n",
    "    HH = np.loadtxt('L='+str(L)+'F='+str(F)+'T='+str(T)+'theta='+str(theta)+'EN='+str(E)+'.txt')\n",
    "    ax[i].imshow(HH, cmap='Blues', vmax=3, vmin=-1)\n",
    "\n",
    "    ax[i].set_xlim(0,L-1)\n",
    "    ax[i].set_ylim(0,L-1)\n",
    "    \n",
    "    ax[i].text(1, 3, r'E$_N$ = '+str(E)+' eV',fontsize=40,color='white')\n",
    "    \n",
    "    ax[i].tick_params(\n",
    "    axis='x',          # changes apply to the x-axis\n",
    "    which='both',      # both major and minor ticks are affected\n",
    "    bottom=False,      # ticks along the bottom edge are off\n",
    "    top=False,         # ticks along the top edge are off\n",
    "    labelbottom=False) # labels along the bottom edge are off\n",
    "    \n",
    "    ax[i].tick_params(\n",
    "    axis='y',          # changes apply to the x-axis\n",
    "    which='both',      # both major and minor ticks are affected\n",
    "    left=False,      # ticks along the bottom edge are off\n",
    "    right=False,         # ticks along the top edge are off\n",
    "    labelleft=False) # labels along the bottom edge are off\n",
    "\n",
    "plt.show()"
   ]
  },
  {
   "cell_type": "code",
   "execution_count": null,
   "metadata": {},
   "outputs": [],
   "source": []
  },
  {
   "cell_type": "code",
   "execution_count": null,
   "metadata": {},
   "outputs": [],
   "source": []
  },
  {
   "cell_type": "code",
   "execution_count": null,
   "metadata": {},
   "outputs": [],
   "source": []
  },
  {
   "cell_type": "code",
   "execution_count": 166,
   "metadata": {},
   "outputs": [
    {
     "data": {
      "image/png": "[encoded data removed]",
      "text/plain": [
       "<Figure size 720x720 with 1 Axes>"
      ]
     },
     "metadata": {
      "needs_background": "light"
     },
     "output_type": "display_data"
    }
   ],
   "source": [
    "\"CONNECTED COMPONENT ANALYSIS\"\n",
    "\n",
    "from scipy.ndimage.measurements import label\n",
    "\n",
    "test = np.loadtxt('L=200F=0.1T=800theta=0.05EN=1.0.txt')\n",
    "\n",
    "graph = np.where(test > 0,1,0) # graphe des ilôts: 1 si h>0, 0 sinon\n",
    "\n",
    "structure = [[0,1,0],[1,1,1],[0,1,0]]  # connection filter: les atomes doivent se toucher par une arête !\n",
    "\n",
    "'Trouver les composantes connexes'\n",
    "label_image, ncomponents = label(graph, structure)\n",
    "\n",
    "'Appliquer les conditions périodiques'\n",
    "for y in range(label_image.shape[0]):\n",
    "    if label_image[y, 0] > 0 and label_image[y, -1] > 0:\n",
    "        label_image[label_image == label_image[y, -1]] = label_image[y, 0]\n",
    "for x in range(label_image.shape[1]):\n",
    "    if label_image[0, x] > 0 and label_image[-1, x] > 0:\n",
    "        label_image[label_image == label_image[-1, x]] = label_image[0, x]\n",
    "        \n",
    "        \n",
    "'Tracer les composantes connexes'\n",
    "%matplotlib inline\n",
    "fig = plt.figure(figsize=(10,10))\n",
    "ax = fig.add_subplot(111)\n",
    "\n",
    "ax.imshow(label_image, cmap='hot', vmax=np.max(label_image), vmin=0)\n",
    "\n",
    "plt.show()\n",
    "\n",
    "\n"
   ]
  },
  {
   "cell_type": "code",
   "execution_count": 167,
   "metadata": {},
   "outputs": [
    {
     "data": {
      "image/png": "[encoded data removed]",
      "text/plain": [
       "<Figure size 432x288 with 1 Axes>"
      ]
     },
     "metadata": {
      "needs_background": "light"
     },
     "output_type": "display_data"
    }
   ],
   "source": [
    "\"Distribution des tailles d'ilôts\"\n",
    "orders = []\n",
    "for compo in range(1, np.max(label_image)+1):\n",
    "    order = np.sum(np.where(label_image==compo,1,0))\n",
    "    orders.append(order)\n",
    "    \n",
    "mean = np.mean(orders)\n",
    "\n",
    "normorders = orders/mean\n",
    "    \n",
    "plt.hist(orders,bins=10)\n",
    "plt.show()"
   ]
  },
  {
   "cell_type": "code",
   "execution_count": 168,
   "metadata": {},
   "outputs": [
    {
     "data": {
      "text/plain": [
       "50000.0"
      ]
     },
     "execution_count": 168,
     "metadata": {},
     "output_type": "execute_result"
    }
   ],
   "source": [
    "500**2*0.2"
   ]
  },
  {
   "cell_type": "code",
   "execution_count": null,
   "metadata": {},
   "outputs": [],
   "source": []
  }
 ],
 "metadata": {
  "kernelspec": {
   "display_name": "Python 3",
   "language": "python",
   "name": "python3"
  },
  "language_info": {
   "codemirror_mode": {
    "name": "ipython",
    "version": 3
   },
   "file_extension": ".py",
   "mimetype": "text/x-python",
   "name": "python",
   "nbconvert_exporter": "python",
   "pygments_lexer": "ipython3",
   "version": "3.8.10"
  }
 },
 "nbformat": 4,
 "nbformat_minor": 4
}
